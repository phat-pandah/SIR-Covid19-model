{
 "cells": [
  {
   "cell_type": "markdown",
   "metadata": {},
   "source": [
    "# Assignment 3\n",
    "\n",
    "Due Mon, Mar  22, 9:30am, commited to your `phys248` repo on the Abacus GitLab server. "
   ]
  },
  {
   "cell_type": "markdown",
   "metadata": {},
   "source": [
    "## 1.\n",
    "The _SIR_ model (W. O. Kermack and A. G. McKendrick, 1927, see [Wikipedia page on this topic for references and additional detail](https://en.wikipedia.org/wiki/Mathematical_modelling_of_infectious_disease)) describes the outbreak and evolution of an infectious desease.\n",
    "\n",
    "The model describes the evolution of a population with $N$ individuals, each of which belongs at any given time to one of three _compartments_:\n",
    "* $S(t)$ is used to represent the number of individuals not yet infected with the disease at time t, and which are susceptible to the disease.\n",
    "* $I(t)$ is the number of individuals that are infected and contagious.\n",
    "* $R(t)$ represents individuals who have been infected and then removed from the disease, either due to immunization or due to death. Individuals in this category are not able to be infected again or to transmit the infection to others."
   ]
  },
  {
   "cell_type": "markdown",
   "metadata": {},
   "source": [
    "The total population $ N = S(t) + I(t) +R(t) $ is constant. In this model there is a general progression of individuals: \n",
    "$$\\mathcal{S} \\rightarrow \\mathcal{I}  \\rightarrow \\mathcal{R}$$\n",
    "\n",
    "The differential equations are interestingly quite similar to reaction networks in chemistry or nuclear physics, where a member of compartment $\\mathcal{S}$ has to interact with a member of compartment $\\mathcal{I}$ to create a new member of $\\mathcal{I}$. This is equivalent to a reaction. The transition from $\\mathcal{I}$ to $\\mathcal{R}$ is equivalent to a radioactive decay.\n",
    "\n",
    "The system of differential equations is:\n",
    "$$ \\frac{dS}{dt} = -\\frac{\\beta S I}{N} $$\n",
    "$$ \\frac{dI}{dt} = \\frac{\\beta S I}{N} - \\gamma I$$\n",
    "$$ \\frac{dR}{dt} = \\gamma I$$\n",
    "\n",
    "\n",
    "$\\gamma$ represents the mean recovery/death rate in units of $\\mathrm{d^{-1}}$, and $1/\\gamma$ is the mean infective period $P_\\mathrm{inf} = 1/\\gamma$. The infective period is the asymptomatic incubation period plus the symptomatic time until the individual transitions to compartment $\\mathcal{R}$. \n",
    "\n",
    "$\\beta$ represents the infection rate. If $n_\\mathrm{inf}$ is the number of members of $\\mathcal{S}$ each member of $\\mathcal{I}$ infects, then $\\beta = n_\\mathrm{inf} / P_\\mathrm{inf} = n_\\mathrm{inf} \\gamma$. \n",
    "\n",
    "The final input parameters are the population size $N$ and the initial values $S_0$, $I_0$ and $R_0$. \n",
    "\n",
    "### 1.1 \n",
    "Solve the model equations for $\\gamma = 1/10\\mathrm{d^{-1}}$ which implies an infective period of $P_\\mathrm{inf} = 1/\\gamma = 10\\mathrm{d}$. Use as initial values $(S_0, I_0, R_0) = (N-I_0, 574,0)$ and $N=1.1\\times10^7$. These are the parameters that describe approximately the situation of the Corona virus infection in China, focussing on the city of Wuhan, on January 22 2020:\n",
    "\n",
    "![Cvirus](../Figs/Cvirus.png)\n",
    "\n",
    "This data could at the time be viewed and exlored at the WHO web page.\n",
    "\n",
    "By Feb 4 (13 days later) the number of infected individuals had increased to $24.4\\times10^3$ individuals.\n",
    "\n",
    "The goal is to estimate $n_\\mathrm{inf}$. Start with $n_\\mathrm{inf} = 2$ implying that each infected person will infect on average 2 uninfected individuals. Make a simulation for the duration of $13\\mathrm{d}$ and repeat while adjusting the $n_\\mathrm{inf}$ parameter (to within one decimal) until it approximately matches  the Wuhan data, i.e. after 13 days the $\\mathcal{I}$ compartment has risen from its initial value to approximately $25\\mathrm{k}$. What is the best value of  $n_\\mathrm{inf}$?\n",
    "\n",
    "Save the plot for this part to the file `Fig1.1.png`.\n",
    "\n",
    "Note: The parameter $n_\\mathrm{inf}$ is now widely known as the reproductive number $R_0$, not to be confused with the variable $R$ we are using here for the removed population."
   ]
  },
  {
   "cell_type": "code",
   "execution_count": 1,
   "metadata": {},
   "outputs": [],
   "source": [
    "import numpy as np\n",
    "import matplotlib.pyplot as plt"
   ]
  },
  {
   "cell_type": "code",
   "execution_count": 3,
   "metadata": {},
   "outputs": [
    {
     "name": "stdout",
     "output_type": "stream",
     "text": [
      "ninf = 4 was the best value to match the Wuhan data\n",
      "\n"
     ]
    },
    {
     "data": {
      "image/png": "[encoded data removed]",
      "text/plain": [
       "<Figure size 936x504 with 1 Axes>"
      ]
     },
     "metadata": {
      "needs_background": "light"
     },
     "output_type": "display_data"
    },
    {
     "name": "stdout",
     "output_type": "stream",
     "text": [
      "\n"
     ]
    }
   ],
   "source": [
    "from scipy.integrate import odeint\n",
    "import matplotlib.ticker as plticker\n",
    "\n",
    "N = 11000000.0      # Total population\n",
    "gamma = 1 / 10      # mean recovery/death rate\n",
    "Pinf = 1 / gamma    # mean infection period\n",
    "ninf = 4            # num each of S each I infects => start with 2 and update value to match Wuhan data\n",
    "beta = ninf * gamma # infection rate\n",
    "\n",
    "#initial values\n",
    "I0, R0 = 574, 0     \n",
    "S0 = N - I0     \n",
    "y0 = S0, I0, R0\n",
    "\n",
    "def dfdt(y, t, N, gamma, beta):\n",
    "   \n",
    "    S, I, R = y\n",
    "    dSdt = -beta * S * I / N\n",
    "    dIdt =  beta * S * I / N - gamma * I\n",
    "    dRdt = gamma * I\n",
    "    \n",
    "    return dSdt, dIdt, dRdt\n",
    "\n",
    "# Look at a period of 13 days\n",
    "time = np.linspace(0,13,14)\n",
    "sol = odeint(dfdt, y0, time, args=(N, gamma, beta))\n",
    "S, I, R = sol.T\n",
    "\n",
    "print(f\"ninf = {ninf} was the best value to match the Wuhan data\")\n",
    "print()\n",
    "\n",
    "# Make a plot resembling Wuhan data plot \n",
    "plt.close(1)\n",
    "fig=plt.figure(1,figsize=(13,7)); ax = fig.subplots()\n",
    "ax.plot(time, I, 'o-',color='orange')\n",
    "ylabels = ['{:.0f}'.format(y)+'K' for y in ax.get_yticks()/1000]\n",
    "xlabels = ['Null','Jan 22', 'Jan 25', 'Jan 28', 'Jan 31', 'Feb']\n",
    "ax.set_yticklabels(ylabels)\n",
    "loc = plticker.MultipleLocator(base=3.0) # this locator puts ticks at regular intervals\n",
    "ax.xaxis.set_major_locator(loc)\n",
    "ax.set_xticklabels(xlabels)\n",
    "ax.grid(True,alpha=0.7,axis='y')\n",
    "ax.set_xlabel('Date')\n",
    "ax.set_ylabel('Number of infected people')\n",
    "ax.set_title('COVID-19 outbreak using the SIR model for first 13 days')\n",
    "ax.spines['right'].set_visible(False)\n",
    "ax.spines['top'].set_visible(False)\n",
    "ax.spines['bottom'].set_visible(False)\n",
    "ax.tick_params(axis='x',  length=0)\n",
    "plt.savefig('Fig1.1.png',dpi=fig.dpi)\n",
    "plt.show()\n",
    "print()\n"
   ]
  },
  {
   "cell_type": "markdown",
   "metadata": {},
   "source": [
    "Reference used to change y ticks: https://stackoverflow.com/questions/53747298/how-to-format-seaborn-matplotlib-axis-tick-labels-from-number-to-thousands-or-mi"
   ]
  },
  {
   "cell_type": "markdown",
   "metadata": {},
   "source": [
    "### 1.2 \n",
    "Using these parameters make a simulation for $100d$, and plot the three compartments $S$, $I$ and $R$. We are also interested in the rate of hospital admissions per day. These are 5% of the rate of those who transition from $I$ to $R$, i.e. 5% of $\\frac{dR}{dt}$. Add as well a line for the 1% fraction of those in $R$ who die. Finally, add a horizontal line for the capacity of hospital beds available in terms of admission capacity per day. China has on average [4.34 beds per 1000 people](https://en.wikipedia.org/wiki/List_of_OECD_countries_by_hospital_beds). Assume that each patient stays 4 days in hospital, and that 20% of the available hospital beds can be used for Corona virus patients. \n",
    "\n",
    "#### 1.2.1\n",
    "After how many days from the beginning of the simulations on Jan 22nd does the hospital admission per day according to the simulation with the $n_\\mathrm{inf}$ parameter from **1.1** exceed the available capacity? How many people would have died at this point? (Find these numbers approximately by interacting with your graph zooming in.) Further, in this scenario, by how much would the daily admission exceed capacity when it peaks, and what is the asymptotic number of people who would have died?\n",
    "\n",
    "#### 1.2.2\n",
    "Obviously this is not the scenario that unfolded, because $n_\\mathrm{inf}$ was dramatically reduced through physical distancing. Esimate how large $n_\\mathrm{inf}$ may at most be so that the hospital capacity is not overwhelmed. \n",
    "\n",
    "You can see that this scenario is also not what unfolded, at least not in most cases. Interpret your simulation output and speculate why this is also not what happened, and why in most places $n_\\mathrm{inf}$ was further reduced and kept lower. "
   ]
  },
  {
   "cell_type": "code",
   "execution_count": 4,
   "metadata": {},
   "outputs": [
    {
     "data": {
      "application/vnd.jupyter.widget-view+json": {
       "model_id": "",
       "version_major": 2,
       "version_minor": 0
      },
      "text/plain": [
       "Canvas(toolbar=Toolbar(toolitems=[('Home', 'Reset original view', 'home', 'home'), ('Back', 'Back to previous …"
      ]
     },
     "metadata": {},
     "output_type": "display_data"
    }
   ],
   "source": [
    "%matplotlib ipympl\n",
    "\n",
    "# Set up problem to model over 100 day period\n",
    "time100 = np.linspace(0,100,101)\n",
    "sol100  = odeint(dfdt, y0, time100, args=(N, gamma, beta)) \n",
    "S100, I100, R100 = sol100.T\n",
    "\n",
    "# Number of Hospital admission = 5% of dR/dt\n",
    "DR = gamma*I100\n",
    "hospital_admission = 0.05*DR\n",
    "\n",
    "# Death = 1% of R\n",
    "death = 0.01*R100\n",
    "beds = N/4 * 4.34/1000 * 0.2\n",
    "\n",
    "plt.close(2)\n",
    "fig = plt.figure(2,figsize=(10,7)); ax = fig.subplots()\n",
    "ax.set_yscale('log')\n",
    "ax.plot(time100, S100, label ='S(t)')\n",
    "ax.plot(time100, I100, label = 'I(T)')\n",
    "ax.plot(time100, R100, label = 'R(T)')\n",
    "ax.plot(time100, death, label='Death')\n",
    "ax.plot(time100, hospital_admission,label='Hospital admission')\n",
    "ax.plot(time100, [beds]*len(time100),color='black',label='Available beds')\n",
    "\n",
    "# yticks = ['{:.0f}'.format(y/1000000) for y in ax.get_yticks()]\n",
    "# ax.set_yticklabels(yticks)\n",
    "\n",
    "ax.legend(bbox_to_anchor=(0.88,0.7))\n",
    "ax.grid(True,alpha=0.7)\n",
    "ax.set_ylim(100,None)\n",
    "ax.set_xlabel(\"Days since Jan 22\")\n",
    "ax.set_ylabel(\"Population\")\n",
    "ax.set_title(\"SIR model of COVID-19 outbreak in Wuhan for first 100 days\")\n",
    "\n",
    "plt.show()"
   ]
  },
  {
   "cell_type": "code",
   "execution_count": 96,
   "metadata": {},
   "outputs": [
    {
     "name": "stdout",
     "output_type": "stream",
     "text": [
      "   From the graph we can see that the number of admited patients \n",
      "exceeds the number of available beds after 22 days. At this point \n",
      "there will have been 1814 deaths according to this model.\n",
      "In this scenario, there will be a peak of 22189,\n",
      "which is 19802 more people admited than there are \n",
      "available beds.\n"
     ]
    }
   ],
   "source": [
    "special_ind = np.where(abs(hospital_admission - beds) < 250)\n",
    "ind = special_ind[0][0]\n",
    "\n",
    "print(f\"\"\"   From the graph we can see that the number of admited patients \n",
    "exceeds the number of available beds after 22 days. At this point \n",
    "there will have been {np.round(death[ind]):.0f} deaths according to this model.\n",
    "In this scenario, there will be a peak of {np.round(max(hospital_admission)):.0f},\n",
    "which is {np.round(max(hospital_admission)-beds):.0f} more people admited than there are \n",
    "available beds.\"\"\" )"
   ]
  },
  {
   "cell_type": "code",
   "execution_count": 8,
   "metadata": {},
   "outputs": [
    {
     "data": {
      "application/vnd.jupyter.widget-view+json": {
       "model_id": "",
       "version_major": 2,
       "version_minor": 0
      },
      "text/plain": [
       "Canvas(toolbar=Toolbar(toolitems=[('Home', 'Reset original view', 'home', 'home'), ('Back', 'Back to previous …"
      ]
     },
     "metadata": {},
     "output_type": "display_data"
    },
    {
     "name": "stdout",
     "output_type": "stream",
     "text": [
      "\n",
      "When ninf = 1.7 we see that within the the number of hospitalization never exceeds the number of available beds \n",
      "for the first 100 days. ninf in this case is not a whole number, but we can think of it as an average; on average infected people infect 1.7 healthy people.\n",
      "\n",
      "ninf was kept lower in some places more so than other places because people in those places have more common sense, more respect for others and are just more decent.\n",
      "Further stricter measures were put in place, like manditory curfews in France, or tracking people's movement through their phones like in south Korea which proved effective.\n",
      "So in those places ninf was significantly reduced. In contrast, in other parts of the world, people are a lot more self intitled and beleive they are above everyone else.\n",
      "In these places, they refuse to follow guidlines meant to reduce ninf, even going as far as protesting and in some cases claiming their civil liberties and freedom \n",
      "are being threatened due to the government wanting to reduce ninf. So ninf ended up being (and still is) way higher than it should be.\n"
     ]
    }
   ],
   "source": [
    "ninf_new = 1.7\n",
    "beta_new = ninf_new * gamma \n",
    "\n",
    "# Set up problem to model over 100 day period\n",
    "time_new = np.linspace(0,100,101)\n",
    "sol_new  = odeint(dfdt, y0, time100, args=(N, gamma, beta_new)) \n",
    "S_new, I_new, R_new = sol_new.T\n",
    "\n",
    "# Number of Hospital admission = 5% of dR/dt\n",
    "DR = gamma*I_new\n",
    "hospital_admission = 0.05*DR\n",
    "\n",
    "# Death = 1% of R\n",
    "death = 0.01*R_new\n",
    "beds = N/4 * 4.34/1000 * 0.2\n",
    "\n",
    "plt.close(2)\n",
    "fig = plt.figure(2,figsize=(10,7)); ax = fig.subplots()\n",
    "\n",
    "ax.plot(time_new, hospital_admission,label='Hospital admission')\n",
    "ax.plot(time_new, [beds]*len(time100),color='black',label='Available beds')\n",
    "ax.legend()\n",
    "ax.grid(True,alpha=0.7)\n",
    "#ax.set_ylim(100,None)\n",
    "ax.set_xlabel(\"Days since Jan 22\")\n",
    "ax.set_ylabel(\"Population \")\n",
    "ax.set_title(f\"SIR model with ninf={ninf_new} \")\n",
    "\n",
    "plt.show()\n",
    "print()\n",
    "\n",
    "# Not sure what he's looking for with this question but here we go.\n",
    "print(f\"\"\"When ninf = {ninf_new} we see that within the the number of hospitalization never exceeds the number of available beds \n",
    "for the first 100 days. ninf in this case is not a whole number, but we can think of it as an average; on average infected people infect {ninf_new} healthy people.\n",
    "\n",
    "ninf was kept lower in some places more so than other places because people in those places have more common sense, more respect for others and are just more decent.\n",
    "Further stricter measures were put in place, like manditory curfews in France, or tracking people's movement through their phones like in south Korea which proved effective.\n",
    "So in those places ninf was significantly reduced. In contrast, in other parts of the world, people are a lot more self intitled and beleive they are above everyone else.\n",
    "In these places, they refuse to follow guidlines meant to reduce ninf, even going as far as protesting and in some cases claiming their civil liberties and freedom \n",
    "are being threatened due to the government wanting to reduce ninf. So ninf ended up being (and still is) way higher than it should be.\"\"\")"
   ]
  },
  {
   "cell_type": "markdown",
   "metadata": {},
   "source": [
    "Reference to format y ticks : https://stackoverflow.com/questions/12608788/changing-the-tick-frequency-on-x-or-y-axis-in-matplotlib/12608937"
   ]
  },
  {
   "cell_type": "markdown",
   "metadata": {},
   "source": [
    "## Problem 2"
   ]
  },
  {
   "cell_type": "markdown",
   "metadata": {},
   "source": [
    "$$\n",
    "f(x) = \\sin(x^{0.9})\n",
    "$$ and\n",
    "$$\n",
    "g(x) = \\cos(2x+\\sqrt{x})\n",
    "$$\n",
    "\n",
    "1. Plot $g(x)$ vs. $f(x)$ for $x \\in [0, \\dots ,50]$ using 1000 equal intervals.\n",
    "2. Make a _snake_ scatter plot of the first 40 points (40 is then the _snake length_) of the $x$ array from part 2.1. Make the size and color proportional to $x$ within the plotted range (snake length) so that the _head_ of the snake is on color and large and the tail is small and the other color.   \n",
    "3. Create a multi-processing script and add it to the assignment commit, that creates 960 frames, each of which shows a snake scatter as in 2.2, but each with a different, subsequent starting point in the $x$ array from its $1^\\mathrm{st}$ to $960^\\mathrm{th}$ value. The multi-processing script should use 6 threads. Each frame is written to a png image file with the number of the x value in the name. Finally, use the `ffmpeg` program to combine the frames into a movie called `trig_snake.mp4`. Use `-framerate 30` to generate a swift movie experience."
   ]
  },
  {
   "cell_type": "code",
   "execution_count": 9,
   "metadata": {},
   "outputs": [
    {
     "data": {
      "application/vnd.jupyter.widget-view+json": {
       "model_id": "76048434494d48f7924f2ccabe0e734f",
       "version_major": 2,
       "version_minor": 0
      },
      "text/plain": [
       "Canvas(toolbar=Toolbar(toolitems=[('Home', 'Reset original view', 'home', 'home'), ('Back', 'Back to previous …"
      ]
     },
     "metadata": {},
     "output_type": "display_data"
    },
    {
     "name": "stdout",
     "output_type": "stream",
     "text": [
      "Reference used to make common ylabl: https://stackoverflow.com/questions/16150819/common-xlabel-ylabel-for-matplotlib-subplots\n"
     ]
    }
   ],
   "source": [
    "# implement the funcions mentioned in question\n",
    "def f(x):\n",
    "    return np.sin(x**0.9)\n",
    "\n",
    "def g(x):\n",
    "    arg = 2*x+np.sqrt(x)\n",
    "    return np.cos(arg)\n",
    "\n",
    "# initiate things\n",
    "n = 1000\n",
    "x = np.linspace(0,50,n+1)\n",
    "f = f(x)\n",
    "g = g(x)\n",
    "\n",
    "# plot things\n",
    "plt.close(2);fig = plt.figure(2); ax = fig.subplots(nrows=2,ncols=1,sharex=True, sharey=True)\n",
    "ax[0].grid(True,alpha=0.6)\n",
    "ax[1].grid(True,alpha=0.6)\n",
    "ax[0].plot(f,g)\n",
    "ax[1].scatter(f[:40], g[:40], s=x[:40]*40, c=x[:40], marker='o')\n",
    "fig.text(0.05,0.5, 'function values', va='center',rotation='vertical')\n",
    "fig.text(0.5,0.01, 'x values', ha='center')\n",
    "\n",
    "fig.suptitle(\"Plot and snake scatterplot of f(x) vs. g(x)\")\n",
    "plt.show()\n",
    "\n",
    "print(\"Reference used to make common ylabl: https://stackoverflow.com/questions/16150819/common-xlabel-ylabel-for-matplotlib-subplots\")\n",
    "\n",
    "# If we could install python packages, could install hyperlink then do the following:\n",
    "# url = https://stackoverflow.com/questions/16150819/common-xlabel-ylabel-for-matplotlib-subplots\n",
    "# better_url = url.replace(scheme=u'https',port=whatever)\n",
    "# clickable = better_url.click(u'.')\n",
    "# print(clickable.to_text())\n",
    "\n",
    "# This would print out a string with a hyperlink to the reference.\n",
    "# Reference: https://hyperlink.readthedocs.io/en/latest/"
   ]
  },
  {
   "cell_type": "code",
   "execution_count": 12,
   "metadata": {},
   "outputs": [
    {
     "data": {
      "application/vnd.jupyter.widget-view+json": {
       "model_id": "e6bb49b0c25d44458790409337af9c45",
       "version_major": 2,
       "version_minor": 0
      },
      "text/plain": [
       "Canvas(toolbar=Toolbar(toolitems=[('Home', 'Reset original view', 'home', 'home'), ('Back', 'Back to previous …"
      ]
     },
     "metadata": {},
     "output_type": "display_data"
    }
   ],
   "source": [
    "from multiprocessing import Pool\n",
    "\n",
    "frames = np.linspace(0,960,961,dtype=int)\n",
    "def image(inp = (1,0)):\n",
    "    i, local_index = inp\n",
    "    plt.figure(i)\n",
    "    plt.scatter(f[local_index:local_index+40], g[local_index:local_index+40], s=x[:40]*40, c=x[:40], marker='o')\n",
    "    plt.xlim(-1,1)\n",
    "    plt.ylim(-1,1)\n",
    "    plt.savefig('trig_snake'+str(i).zfill(4)+\".png\")\n",
    "    plt.close(i)\n",
    "    \n",
    "p = Pool(6)\n",
    "p.map(image, enumerate(frames))\n",
    "plt.show()"
   ]
  },
  {
   "cell_type": "markdown",
   "metadata": {},
   "source": [
    "### Bash commands: \n",
    "\n",
    "nano movies.sh<br><br>\n",
    "\"ffmpeg  -framerate 10   -y -f image2  -pattern_type glob -i \"$1*.png\" -preset slow -crf 18  -c:v libx264 -b:v 12000k  -pix_fmt yuv420p  $1.mp4\"<br><br>\n",
    "bash movies.sh trig_snake<br><br>\n",
    "rm trig_snake*.png"
   ]
  },
  {
   "cell_type": "markdown",
   "metadata": {},
   "source": [
    "## 3. Random walk\n",
    "In this problem you will program a random walk and explore its properties.\n",
    "A two-dimensional random walk is the result of making random steps in both x- and y-directions. \n",
    "\n",
    "Tip: Start the program developement for very small parameters of number of steps and walks and check your results every step. Built you program out of small elements, one expression and one line at a time, each of which you check. This will save you time later  when you otherwise have a hard time finding bugs.\n",
    "\n",
    "### 3.1 \n",
    "\n",
    "Generate a data set that represents $n=10000$ random steps in the $(x,y)$ - plane. The random walk starts at $(x_0,y_0) = (0,0)$. Each of the following $n$ steps will advance by $\\Delta x$ and $\\Delta y$, each of which is either $+ 0.5$ or $-0.5$. Make a plot of the random walk by representing the position at each of the $n$ steps with a square marker in which the color represents the step number. \n"
   ]
  },
  {
   "cell_type": "code",
   "execution_count": 6,
   "metadata": {},
   "outputs": [
    {
     "data": {
      "application/vnd.jupyter.widget-view+json": {
       "model_id": "",
       "version_major": 2,
       "version_minor": 0
      },
      "text/plain": [
       "Canvas(toolbar=Toolbar(toolitems=[('Home', 'Reset original view', 'home', 'home'), ('Back', 'Back to previous …"
      ]
     },
     "metadata": {},
     "output_type": "display_data"
    }
   ],
   "source": [
    "# 2D random walk\n",
    "\n",
    "n = 10000                  # number of steps\n",
    "n_steps = np.linspace(0,10000,n+1)\n",
    "step_size = [-0.5,0.5]     # step sizes\n",
    "dim = 2                    # dimension, 2D walk => dim = 2\n",
    "origin = np.zeros((1,dim)) # origin at (x0,y0) = (0,0)\n",
    "\n",
    "# the walk\n",
    "shape = (n, dim)  # shape of randomly chose tuple          \n",
    "steps = np.random.choice(step_size, shape, p=[0.5,0.5]) #random step, note both step sizes have same probability\n",
    "walk  = np.concatenate([origin, steps]).cumsum(0) # A walk is just a bunch of steps taken one after another\n",
    "start = walk[:1]\n",
    "end = walk[-1:]\n",
    "\n",
    "# Plot it\n",
    "%matplotlib ipympl\n",
    "plt.close(10);plt.figure(10,figsize=(15,9))\n",
    "\n",
    "plt.scatter(walk[:,0], walk[:,1], marker='s',c=n_steps, cmap='plasma', s=2, alpha=10)\n",
    "cbar = plt.colorbar()\n",
    "cbar.set_ticks([0,2000,4000,6000,8000,10000])\n",
    "cbar.set_ticklabels(['0','2k','4k','6k','8k','10k'])\n",
    "cbar.set_label('Step Number',labelpad=-25,y=1.08,rotation=0)\n",
    "plt.plot(start[:,0],start[:,1],color='green',marker='o',markersize=7,label='Start of walk')\n",
    "plt.plot(end[:,0], end[:,1], color='red',marker='o',markersize=7,label='End of walk')\n",
    "plt.legend(prop={'size':10})\n",
    "plt.xlabel(\"X direction\",fontsize=13)\n",
    "plt.ylabel('Y direction',fontsize=13)\n",
    "plt.title(f'2D Random walk with n={n} steps',fontsize=15)\n",
    "plt.show()"
   ]
  },
  {
   "cell_type": "markdown",
   "metadata": {},
   "source": [
    "### 3.2 \n",
    "\n",
    "Make $n_\\mathrm{walk} = 1000$  walks of $n=10000$.  \n",
    "* Each time save an array with the distance of each of the $n$ positions from the origin. \n",
    "* Plot a histogram  of the maximum and final distance in the same diagram, using the `alpha` option to make sure both histograms can be seen. \n",
    "* Plot the distance as a function of step number for every $100^\\mathrm{th}$ walk."
   ]
  },
  {
   "cell_type": "code",
   "execution_count": 4,
   "metadata": {},
   "outputs": [],
   "source": [
    "# using tuples like in the last part is too messy for this question, use new method\n",
    "\n",
    "# random.choice(step_sizes, (number of walks, length of each walk), prob_steps)\n",
    "# axis = 1 => sum up steps in each walk i.e each row\n",
    "walk_x = np.cumsum(np.random.choice([-0.5,0.5], (1000, 10000), p=[0.5,0.5]), axis=1)\n",
    "walk_y = np.cumsum(np.random.choice([-0.5,0.5], (1000, 10000), p=[0.5,0.5]), axis=1)\n",
    "dist = np.sqrt(walk_x**2 + walk_y**2)\n",
    "max_d = np.amax(dist,axis=1)\n",
    "last_d = dist[:,-1]"
   ]
  },
  {
   "cell_type": "code",
   "execution_count": 5,
   "metadata": {},
   "outputs": [
    {
     "data": {
      "image/png": "[encoded data removed]",
      "text/plain": [
       "<Figure size 864x504 with 1 Axes>"
      ]
     },
     "metadata": {
      "needs_background": "light"
     },
     "output_type": "display_data"
    }
   ],
   "source": [
    "# Histogram of maximum and final distance\n",
    "# using histtype='step' is vastly superior to messing with the alpha parameter in this case\n",
    "\n",
    "n_bins = int(np.sqrt(1000))\n",
    "plt.close(9);plt.figure(9,figsize=(12,7))\n",
    "plt.hist(max_d, bins=n_bins, histtype='step', lw=1.5, label='Max distance')\n",
    "plt.hist(last_d, bins=n_bins, histtype='step', lw=1.5, label='Final distance')\n",
    "plt.legend()\n",
    "plt.grid(True, alpha=0.6)\n",
    "plt.xlabel('Distance',fontsize=13)\n",
    "plt.ylabel('Number of occurances',fontsize=13)\n",
    "plt.title('Maximum and Final distance from origin of 1000 random walks of 10000 steps',fontsize=14)\n",
    "plt.show()"
   ]
  },
  {
   "cell_type": "code",
   "execution_count": 103,
   "metadata": {},
   "outputs": [
    {
     "data": {
      "application/vnd.jupyter.widget-view+json": {
       "model_id": "",
       "version_major": 2,
       "version_minor": 0
      },
      "text/plain": [
       "Canvas(toolbar=Toolbar(toolitems=[('Home', 'Reset original view', 'home', 'home'), ('Back', 'Back to previous …"
      ]
     },
     "metadata": {},
     "output_type": "display_data"
    }
   ],
   "source": [
    "plt.close(8);plt.figure(8,figsize=(12,7))\n",
    "[plt.plot(ith_dist,lw=0.7,alpha=0.8,label=f\"{i}00th walk\") for i,ith_dist in enumerate(dist[::100])]\n",
    "plt.plot(dist[-1],lw=0.7,alpha=0.8,label='1000th walk')\n",
    "plt.xlabel('Step number',fontsize=13)\n",
    "plt.ylabel('Distance from origin',fontsize=13)\n",
    "plt.title('Distance from origin as a function of steps for every 100th walk',fontsize=14)\n",
    "plt.legend()\n",
    "plt.show()"
   ]
  },
  {
   "cell_type": "markdown",
   "metadata": {},
   "source": [
    "### 3.3\n",
    "Explore the maximum distance the random walk gets away from the origin as a function of the number of steps taken. Make $n = 2^p$ steps for $p \\in [4, 5, \\dots ,13]$, and each time make $n_\\mathrm{walk} = 1000$  walks to establish good statistics. For each of the 10 cases (one for each $p$) determine the distance $r_\\mathrm{max-hist}$ at which the maximum of the histogram of the maximum distance of the $n_\\mathrm{walk}$ walks for this case with $n$ steps is located. Then plot $r_\\mathrm{max-hist}$ vs. $log_\\mathrm{10} n$."
   ]
  },
  {
   "cell_type": "code",
   "execution_count": 104,
   "metadata": {},
   "outputs": [],
   "source": [
    "p = np.linspace(4,13,10,dtype=int)\n",
    "\n",
    "def walk2d(p):\n",
    "    '''Takes int and returns an array of length=1000, where each entry is the max distance in a walk'''\n",
    "    n_steps = 2**p\n",
    "    walk_x = np.cumsum(np.random.choice([-0.5,0.5], (1000, n_steps), p=[0.5,0.5]), axis=1)\n",
    "    walk_y = np.cumsum(np.random.choice([-0.5,0.5], (1000, n_steps), p=[0.5,0.5]), axis=1)\n",
    "    dist = np.sqrt(walk_x**2 + walk_y**2)\n",
    "    max_d = np.amax(dist,axis=1)\n",
    "    #last_d = dist[:,-1]\n",
    "    \n",
    "    return max_d\n",
    "\n",
    "# call function for each value of p, store max of max-distance of all 1000 walks into list\n",
    "uber_max = []\n",
    "for confused in p:    \n",
    "    max_of_each_walk = max(walk2d(confused))\n",
    "    uber_max.append(max_of_each_walk)\n",
    "\n",
    "# expect uber_max to have len 10; matches p index-wise\n",
    "assert len(uber_max) == len(p)"
   ]
  },
  {
   "cell_type": "code",
   "execution_count": 105,
   "metadata": {},
   "outputs": [
    {
     "data": {
      "application/vnd.jupyter.widget-view+json": {
       "model_id": "",
       "version_major": 2,
       "version_minor": 0
      },
      "text/plain": [
       "Canvas(toolbar=Toolbar(toolitems=[('Home', 'Reset original view', 'home', 'home'), ('Back', 'Back to previous …"
      ]
     },
     "metadata": {},
     "output_type": "display_data"
    }
   ],
   "source": [
    "# plot in log base 2\n",
    "# log base 10 doesn't make sence here since we're plotting 2^p here (not 10^p)\n",
    "# not sure if that's yet another bad typo............\n",
    "\n",
    "plt.close(7);fig=plt.figure(7,figsize=(12,7)); ax = fig.subplots()\n",
    "ax.set_xscale('log', basex=2)\n",
    "ax.plot(2**p,uber_max,'o')\n",
    "xticks = [f\"{i+4}\" for i, _ in enumerate(ax.get_yticks())]\n",
    "ax.set_xticks(2**p)\n",
    "ax.set_xticklabels(xticks)\n",
    "ax.set_xlabel('value of p',fontsize=13)\n",
    "ax.set_ylabel('${r_{max-hist}}$',fontsize=13)\n",
    "ax.set_title('Maximum distance from origin for ${2^p}$ steps taken')\n",
    "ax.grid(True,alpha=0.6)\n",
    "plt.show()"
   ]
  },
  {
   "cell_type": "markdown",
   "metadata": {},
   "source": [
    "## Problem 4\n",
    "\n",
    "1. Create a python function `func1` that calculates \n",
    "$$f(x) = sin(x^3)\\frac{x^3}{exp(-x)}$$ Make a plot for  $x\\in[-2.5,1]$ using an x array representing 100 intervals.\n",
    "2. Calculate the derivative $\\frac{df}{dx}$ numerically and make a plot of the derivative.\n",
    "3. Calculate the integral of $f(x)$ for $x\\in[-2.5,1]$  using \n",
    "    * a library that uses a conventional discrete integration\n",
    "    * a Monte-Carlo method\n",
    "4. Solve the ODE $$\\frac{dx}{dt} = f(x)$$ for the initial value $x_{01}=-1.465$, and a second time for $x_{02}=-1.463$ for $t\\in[0,20]$. Make a plot of $x(t)$ for both initial value and explain briefly why the two trajectories is so different althoug the initial values are almost the same."
   ]
  },
  {
   "cell_type": "code",
   "execution_count": 9,
   "metadata": {},
   "outputs": [
    {
     "name": "stdout",
     "output_type": "stream",
     "text": [
      "The integral of f(x) in the specified range was found to be 0.50 using Monte-Carlo integration, \n",
      "and 0.51 using the cumtrapz method from scipy.integrate\n",
      "\n"
     ]
    },
    {
     "data": {
      "application/vnd.jupyter.widget-view+json": {
       "model_id": "",
       "version_major": 2,
       "version_minor": 0
      },
      "text/plain": [
       "Canvas(toolbar=Toolbar(toolitems=[('Home', 'Reset original view', 'home', 'home'), ('Back', 'Back to previous …"
      ]
     },
     "metadata": {},
     "output_type": "display_data"
    }
   ],
   "source": [
    "# define function and input array\n",
    "n = 100\n",
    "x = np.linspace(-2.5,1,n+1)\n",
    "\n",
    "def func(x):\n",
    "    return np.sin(x**3) * x**3 * np.exp(x)\n",
    "\n",
    "# Find gradient => used np.gradient dunno if that's what was asked for or do it manually\n",
    "deriv_f = np.gradient(func(x),x)\n",
    "\n",
    "# integrate using a function\n",
    "from scipy import integrate\n",
    "f = func(x)\n",
    "F_lib = integrate.cumtrapz(f,x)\n",
    "\n",
    "# Monte-Carlo Int\n",
    "np.random.seed(123)\n",
    "def MonteCarloInt(func,xrange,N):\n",
    "    Dx = np.diff(xrange)[0]\n",
    "    x  = Dx * np.random.rand(N) + xrange[0]\n",
    "    \n",
    "    func_avg = func(x).mean()\n",
    "    I = func_avg * Dx\n",
    "    \n",
    "    return I\n",
    "xrange = np.array((-2.5,1))\n",
    "N = 10000\n",
    "F_MC = MonteCarloInt(func,xrange, N)\n",
    "\n",
    "# Compare Monte-Carlo with Cumtrapz\n",
    "print(f\"\"\"The integral of f(x) in the specified range was found to be {F_MC:.2f} using Monte-Carlo integration, \n",
    "and {F_lib[-1]:.2f} using the cumtrapz method from scipy.integrate\"\"\")\n",
    "print()\n",
    "\n",
    "# Some plots\n",
    "plt.close(10);fig = plt.figure(10,figsize=(10,5)); ax = fig.subplots(nrows=2,ncols=1)\n",
    "\n",
    "ax[0].plot(x,func(x),label='f(x)')\n",
    "ax[0].plot(x,deriv_f,label='df/dx')\n",
    "ax[1].plot(x,func(x),label='f(x)')\n",
    "ax[1].plot(x[1:], F_lib, label='integral F(x)')\n",
    "ax[0].grid(True,alpha=0.6)\n",
    "ax[1].grid(True,alpha=0.6)\n",
    "fig.text(0.02,0.5, 'function values', va='center',rotation='vertical')\n",
    "fig.text(0.5,0.01, 'x values', ha='center')\n",
    "ax[0].legend()\n",
    "ax[1].legend()\n",
    "fig.suptitle(\"Function f(x) plotted alongside its derivative and integral\")\n",
    "plt.show()\n"
   ]
  },
  {
   "cell_type": "code",
   "execution_count": 10,
   "metadata": {},
   "outputs": [
    {
     "data": {
      "application/vnd.jupyter.widget-view+json": {
       "model_id": "55b2248d4c644e58bd8a9e5c7856ef8d",
       "version_major": 2,
       "version_minor": 0
      },
      "text/plain": [
       "Canvas(toolbar=Toolbar(toolitems=[('Home', 'Reset original view', 'home', 'home'), ('Back', 'Back to previous …"
      ]
     },
     "metadata": {},
     "output_type": "display_data"
    }
   ],
   "source": [
    "from scipy.integrate import odeint\n",
    "%matplotlib ipympl\n",
    "# System\n",
    "\n",
    "def dsdt(y,t):\n",
    "    x = y\n",
    "    dxdt = np.sin(x**3)*x**3*np.exp(x)\n",
    "    return dxdt\n",
    "\n",
    "# I.C\n",
    "x01 = -1.465\n",
    "x02 = -1.463\n",
    "t = np.linspace(0,20,101)\n",
    "\n",
    "# Solve\n",
    "sol1 = odeint(dsdt,x01,t)\n",
    "sol2 = odeint(dsdt,x02,t)\n",
    "\n",
    "# Plot\n",
    "plt.close(15);plt.figure(15)\n",
    "plt.plot(t,sol1,label=f\"x$_{{{0}}}$ = {x01}\")\n",
    "plt.plot(t,sol2,label=f\"x$_{{{0}}}$ = {x02}\")\n",
    "plt.legend()\n",
    "plt.grid(True,alpha=0.6)\n",
    "plt.xlabel(\"Time [s]\")\n",
    "plt.ylabel(\"x(t)\")\n",
    "plt.title(\"Trajectory x(t) subject to different initial conditions\")\n",
    "plt.show()"
   ]
  },
  {
   "cell_type": "markdown",
   "metadata": {},
   "source": [
    "Reference to display latex in a f-string: https://stackoverflow.com/questions/60150031/how-to-display-latex-f-strings-in-matplotlib"
   ]
  },
  {
   "cell_type": "markdown",
   "metadata": {},
   "source": [
    "Zooming in wher the curves start, we notice that for the inital condition $x_{0}$ = -1.465, the x(t) has a positive gradient and looking at the differential equation, we can see that it will continue being positive. When we change the initial condition slightly to $x_{0}$ = -1.463 we notice that x(t) initially has a negative gradient, and thus will continue having a negative gradient. This is why x(t) looks so different when we slightly vary the initial condition."
   ]
  }
 ],
 "metadata": {
  "kernelspec": {
   "display_name": "Python 3",
   "language": "python",
   "name": "python3"
  },
  "language_info": {
   "codemirror_mode": {
    "name": "ipython",
    "version": 3
   },
   "file_extension": ".py",
   "mimetype": "text/x-python",
   "name": "python",
   "nbconvert_exporter": "python",
   "pygments_lexer": "ipython3",
   "version": "3.6.9"
  }
 },
 "nbformat": 4,
 "nbformat_minor": 5
}
